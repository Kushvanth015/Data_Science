{
  "nbformat": 4,
  "nbformat_minor": 0,
  "metadata": {
    "colab": {
      "provenance": [],
      "authorship_tag": "ABX9TyOdFxSRPwWXkZlLZuzpj4mD",
      "include_colab_link": true
    },
    "kernelspec": {
      "name": "python3",
      "display_name": "Python 3"
    },
    "language_info": {
      "name": "python"
    }
  },
  "cells": [
    {
      "cell_type": "markdown",
      "metadata": {
        "id": "view-in-github",
        "colab_type": "text"
      },
      "source": [
        "<a href=\"https://colab.research.google.com/github/Kushvanth015/Data_Science/blob/main/A_B_Testing.ipynb\" target=\"_parent\"><img src=\"https://colab.research.google.com/assets/colab-badge.svg\" alt=\"Open In Colab\"/></a>"
      ]
    },
    {
      "cell_type": "markdown",
      "source": [
        "#📊 Statistical Analysis of User Behavior through A/B Testing"
      ],
      "metadata": {
        "id": "N977mgOQ_1It"
      }
    },
    {
      "cell_type": "markdown",
      "source": [
        "#✅ 1. Import Libraries"
      ],
      "metadata": {
        "id": "a1jiEA7SCmiE"
      }
    },
    {
      "cell_type": "code",
      "source": [
        "import numpy as np\n",
        "import pandas as pd\n",
        "import matplotlib.pyplot as plt\n",
        "import seaborn as sns\n",
        "from statsmodels.stats.proportion import proportions_ztest"
      ],
      "metadata": {
        "id": "dJo_-suBCpFJ"
      },
      "execution_count": 40,
      "outputs": []
    },
    {
      "cell_type": "markdown",
      "source": [
        "#✅ Load Dataset"
      ],
      "metadata": {
        "id": "sFrBtiqJDXkT"
      }
    },
    {
      "cell_type": "code",
      "source": [
        "# Load dataset\n",
        "data = pd.read_csv(\"/content/ab_test_data.csv\")\n",
        "\n",
        "data.head()"
      ],
      "metadata": {
        "colab": {
          "base_uri": "https://localhost:8080/",
          "height": 206
        },
        "id": "VC3QWLsNDdAW",
        "outputId": "2f5f48c4-9586-47b2-f958-31a8d510b6c3"
      },
      "execution_count": 41,
      "outputs": [
        {
          "output_type": "execute_result",
          "data": {
            "text/plain": [
              "   user_id group  converted\n",
              "0        1     A          0\n",
              "1        2     A          1\n",
              "2        3     A          1\n",
              "3        4     A          1\n",
              "4        5     A          1"
            ],
            "text/html": [
              "\n",
              "  <div id=\"df-c418ca91-8f2d-4a54-91d6-4aaa60bcf36d\" class=\"colab-df-container\">\n",
              "    <div>\n",
              "<style scoped>\n",
              "    .dataframe tbody tr th:only-of-type {\n",
              "        vertical-align: middle;\n",
              "    }\n",
              "\n",
              "    .dataframe tbody tr th {\n",
              "        vertical-align: top;\n",
              "    }\n",
              "\n",
              "    .dataframe thead th {\n",
              "        text-align: right;\n",
              "    }\n",
              "</style>\n",
              "<table border=\"1\" class=\"dataframe\">\n",
              "  <thead>\n",
              "    <tr style=\"text-align: right;\">\n",
              "      <th></th>\n",
              "      <th>user_id</th>\n",
              "      <th>group</th>\n",
              "      <th>converted</th>\n",
              "    </tr>\n",
              "  </thead>\n",
              "  <tbody>\n",
              "    <tr>\n",
              "      <th>0</th>\n",
              "      <td>1</td>\n",
              "      <td>A</td>\n",
              "      <td>0</td>\n",
              "    </tr>\n",
              "    <tr>\n",
              "      <th>1</th>\n",
              "      <td>2</td>\n",
              "      <td>A</td>\n",
              "      <td>1</td>\n",
              "    </tr>\n",
              "    <tr>\n",
              "      <th>2</th>\n",
              "      <td>3</td>\n",
              "      <td>A</td>\n",
              "      <td>1</td>\n",
              "    </tr>\n",
              "    <tr>\n",
              "      <th>3</th>\n",
              "      <td>4</td>\n",
              "      <td>A</td>\n",
              "      <td>1</td>\n",
              "    </tr>\n",
              "    <tr>\n",
              "      <th>4</th>\n",
              "      <td>5</td>\n",
              "      <td>A</td>\n",
              "      <td>1</td>\n",
              "    </tr>\n",
              "  </tbody>\n",
              "</table>\n",
              "</div>\n",
              "    <div class=\"colab-df-buttons\">\n",
              "\n",
              "  <div class=\"colab-df-container\">\n",
              "    <button class=\"colab-df-convert\" onclick=\"convertToInteractive('df-c418ca91-8f2d-4a54-91d6-4aaa60bcf36d')\"\n",
              "            title=\"Convert this dataframe to an interactive table.\"\n",
              "            style=\"display:none;\">\n",
              "\n",
              "  <svg xmlns=\"http://www.w3.org/2000/svg\" height=\"24px\" viewBox=\"0 -960 960 960\">\n",
              "    <path d=\"M120-120v-720h720v720H120Zm60-500h600v-160H180v160Zm220 220h160v-160H400v160Zm0 220h160v-160H400v160ZM180-400h160v-160H180v160Zm440 0h160v-160H620v160ZM180-180h160v-160H180v160Zm440 0h160v-160H620v160Z\"/>\n",
              "  </svg>\n",
              "    </button>\n",
              "\n",
              "  <style>\n",
              "    .colab-df-container {\n",
              "      display:flex;\n",
              "      gap: 12px;\n",
              "    }\n",
              "\n",
              "    .colab-df-convert {\n",
              "      background-color: #E8F0FE;\n",
              "      border: none;\n",
              "      border-radius: 50%;\n",
              "      cursor: pointer;\n",
              "      display: none;\n",
              "      fill: #1967D2;\n",
              "      height: 32px;\n",
              "      padding: 0 0 0 0;\n",
              "      width: 32px;\n",
              "    }\n",
              "\n",
              "    .colab-df-convert:hover {\n",
              "      background-color: #E2EBFA;\n",
              "      box-shadow: 0px 1px 2px rgba(60, 64, 67, 0.3), 0px 1px 3px 1px rgba(60, 64, 67, 0.15);\n",
              "      fill: #174EA6;\n",
              "    }\n",
              "\n",
              "    .colab-df-buttons div {\n",
              "      margin-bottom: 4px;\n",
              "    }\n",
              "\n",
              "    [theme=dark] .colab-df-convert {\n",
              "      background-color: #3B4455;\n",
              "      fill: #D2E3FC;\n",
              "    }\n",
              "\n",
              "    [theme=dark] .colab-df-convert:hover {\n",
              "      background-color: #434B5C;\n",
              "      box-shadow: 0px 1px 3px 1px rgba(0, 0, 0, 0.15);\n",
              "      filter: drop-shadow(0px 1px 2px rgba(0, 0, 0, 0.3));\n",
              "      fill: #FFFFFF;\n",
              "    }\n",
              "  </style>\n",
              "\n",
              "    <script>\n",
              "      const buttonEl =\n",
              "        document.querySelector('#df-c418ca91-8f2d-4a54-91d6-4aaa60bcf36d button.colab-df-convert');\n",
              "      buttonEl.style.display =\n",
              "        google.colab.kernel.accessAllowed ? 'block' : 'none';\n",
              "\n",
              "      async function convertToInteractive(key) {\n",
              "        const element = document.querySelector('#df-c418ca91-8f2d-4a54-91d6-4aaa60bcf36d');\n",
              "        const dataTable =\n",
              "          await google.colab.kernel.invokeFunction('convertToInteractive',\n",
              "                                                    [key], {});\n",
              "        if (!dataTable) return;\n",
              "\n",
              "        const docLinkHtml = 'Like what you see? Visit the ' +\n",
              "          '<a target=\"_blank\" href=https://colab.research.google.com/notebooks/data_table.ipynb>data table notebook</a>'\n",
              "          + ' to learn more about interactive tables.';\n",
              "        element.innerHTML = '';\n",
              "        dataTable['output_type'] = 'display_data';\n",
              "        await google.colab.output.renderOutput(dataTable, element);\n",
              "        const docLink = document.createElement('div');\n",
              "        docLink.innerHTML = docLinkHtml;\n",
              "        element.appendChild(docLink);\n",
              "      }\n",
              "    </script>\n",
              "  </div>\n",
              "\n",
              "\n",
              "    <div id=\"df-514258fe-b3ab-4b57-b3b6-d0fd3fd1b3fd\">\n",
              "      <button class=\"colab-df-quickchart\" onclick=\"quickchart('df-514258fe-b3ab-4b57-b3b6-d0fd3fd1b3fd')\"\n",
              "                title=\"Suggest charts\"\n",
              "                style=\"display:none;\">\n",
              "\n",
              "<svg xmlns=\"http://www.w3.org/2000/svg\" height=\"24px\"viewBox=\"0 0 24 24\"\n",
              "     width=\"24px\">\n",
              "    <g>\n",
              "        <path d=\"M19 3H5c-1.1 0-2 .9-2 2v14c0 1.1.9 2 2 2h14c1.1 0 2-.9 2-2V5c0-1.1-.9-2-2-2zM9 17H7v-7h2v7zm4 0h-2V7h2v10zm4 0h-2v-4h2v4z\"/>\n",
              "    </g>\n",
              "</svg>\n",
              "      </button>\n",
              "\n",
              "<style>\n",
              "  .colab-df-quickchart {\n",
              "      --bg-color: #E8F0FE;\n",
              "      --fill-color: #1967D2;\n",
              "      --hover-bg-color: #E2EBFA;\n",
              "      --hover-fill-color: #174EA6;\n",
              "      --disabled-fill-color: #AAA;\n",
              "      --disabled-bg-color: #DDD;\n",
              "  }\n",
              "\n",
              "  [theme=dark] .colab-df-quickchart {\n",
              "      --bg-color: #3B4455;\n",
              "      --fill-color: #D2E3FC;\n",
              "      --hover-bg-color: #434B5C;\n",
              "      --hover-fill-color: #FFFFFF;\n",
              "      --disabled-bg-color: #3B4455;\n",
              "      --disabled-fill-color: #666;\n",
              "  }\n",
              "\n",
              "  .colab-df-quickchart {\n",
              "    background-color: var(--bg-color);\n",
              "    border: none;\n",
              "    border-radius: 50%;\n",
              "    cursor: pointer;\n",
              "    display: none;\n",
              "    fill: var(--fill-color);\n",
              "    height: 32px;\n",
              "    padding: 0;\n",
              "    width: 32px;\n",
              "  }\n",
              "\n",
              "  .colab-df-quickchart:hover {\n",
              "    background-color: var(--hover-bg-color);\n",
              "    box-shadow: 0 1px 2px rgba(60, 64, 67, 0.3), 0 1px 3px 1px rgba(60, 64, 67, 0.15);\n",
              "    fill: var(--button-hover-fill-color);\n",
              "  }\n",
              "\n",
              "  .colab-df-quickchart-complete:disabled,\n",
              "  .colab-df-quickchart-complete:disabled:hover {\n",
              "    background-color: var(--disabled-bg-color);\n",
              "    fill: var(--disabled-fill-color);\n",
              "    box-shadow: none;\n",
              "  }\n",
              "\n",
              "  .colab-df-spinner {\n",
              "    border: 2px solid var(--fill-color);\n",
              "    border-color: transparent;\n",
              "    border-bottom-color: var(--fill-color);\n",
              "    animation:\n",
              "      spin 1s steps(1) infinite;\n",
              "  }\n",
              "\n",
              "  @keyframes spin {\n",
              "    0% {\n",
              "      border-color: transparent;\n",
              "      border-bottom-color: var(--fill-color);\n",
              "      border-left-color: var(--fill-color);\n",
              "    }\n",
              "    20% {\n",
              "      border-color: transparent;\n",
              "      border-left-color: var(--fill-color);\n",
              "      border-top-color: var(--fill-color);\n",
              "    }\n",
              "    30% {\n",
              "      border-color: transparent;\n",
              "      border-left-color: var(--fill-color);\n",
              "      border-top-color: var(--fill-color);\n",
              "      border-right-color: var(--fill-color);\n",
              "    }\n",
              "    40% {\n",
              "      border-color: transparent;\n",
              "      border-right-color: var(--fill-color);\n",
              "      border-top-color: var(--fill-color);\n",
              "    }\n",
              "    60% {\n",
              "      border-color: transparent;\n",
              "      border-right-color: var(--fill-color);\n",
              "    }\n",
              "    80% {\n",
              "      border-color: transparent;\n",
              "      border-right-color: var(--fill-color);\n",
              "      border-bottom-color: var(--fill-color);\n",
              "    }\n",
              "    90% {\n",
              "      border-color: transparent;\n",
              "      border-bottom-color: var(--fill-color);\n",
              "    }\n",
              "  }\n",
              "</style>\n",
              "\n",
              "      <script>\n",
              "        async function quickchart(key) {\n",
              "          const quickchartButtonEl =\n",
              "            document.querySelector('#' + key + ' button');\n",
              "          quickchartButtonEl.disabled = true;  // To prevent multiple clicks.\n",
              "          quickchartButtonEl.classList.add('colab-df-spinner');\n",
              "          try {\n",
              "            const charts = await google.colab.kernel.invokeFunction(\n",
              "                'suggestCharts', [key], {});\n",
              "          } catch (error) {\n",
              "            console.error('Error during call to suggestCharts:', error);\n",
              "          }\n",
              "          quickchartButtonEl.classList.remove('colab-df-spinner');\n",
              "          quickchartButtonEl.classList.add('colab-df-quickchart-complete');\n",
              "        }\n",
              "        (() => {\n",
              "          let quickchartButtonEl =\n",
              "            document.querySelector('#df-514258fe-b3ab-4b57-b3b6-d0fd3fd1b3fd button');\n",
              "          quickchartButtonEl.style.display =\n",
              "            google.colab.kernel.accessAllowed ? 'block' : 'none';\n",
              "        })();\n",
              "      </script>\n",
              "    </div>\n",
              "\n",
              "    </div>\n",
              "  </div>\n"
            ],
            "application/vnd.google.colaboratory.intrinsic+json": {
              "type": "dataframe",
              "variable_name": "data",
              "summary": "{\n  \"name\": \"data\",\n  \"rows\": 1000,\n  \"fields\": [\n    {\n      \"column\": \"user_id\",\n      \"properties\": {\n        \"dtype\": \"number\",\n        \"std\": 288,\n        \"min\": 1,\n        \"max\": 1000,\n        \"num_unique_values\": 1000,\n        \"samples\": [\n          522,\n          738,\n          741\n        ],\n        \"semantic_type\": \"\",\n        \"description\": \"\"\n      }\n    },\n    {\n      \"column\": \"group\",\n      \"properties\": {\n        \"dtype\": \"category\",\n        \"num_unique_values\": 2,\n        \"samples\": [\n          \"B\",\n          \"A\"\n        ],\n        \"semantic_type\": \"\",\n        \"description\": \"\"\n      }\n    },\n    {\n      \"column\": \"converted\",\n      \"properties\": {\n        \"dtype\": \"number\",\n        \"std\": 0,\n        \"min\": 0,\n        \"max\": 1,\n        \"num_unique_values\": 2,\n        \"samples\": [\n          1,\n          0\n        ],\n        \"semantic_type\": \"\",\n        \"description\": \"\"\n      }\n    }\n  ]\n}"
            }
          },
          "metadata": {},
          "execution_count": 41
        }
      ]
    },
    {
      "cell_type": "markdown",
      "source": [
        "#✅ Step 3: Basic Analysis\n"
      ],
      "metadata": {
        "id": "tDvInRlxCvon"
      }
    },
    {
      "cell_type": "code",
      "source": [
        "# Conversion rate per group (mean of 'converted')\n",
        "conversion_rates = data.groupby('group')['converted'].mean()\n",
        "print(\"📊 Conversion Rates:\\n\", conversion_rates)\n",
        "\n",
        "# Count of conversions per group\n",
        "conversion_counts = data.groupby('group')['converted'].sum()\n",
        "print(\"\\n✅ Total Conversions:\\n\", conversion_counts)\n",
        "\n",
        "# Total number of users per group\n",
        "user_counts = data.groupby('group')['converted'].count()\n",
        "print(\"\\n👥 Total Users:\\n\", user_counts)"
      ],
      "metadata": {
        "colab": {
          "base_uri": "https://localhost:8080/"
        },
        "id": "3q2H5W2_CqKw",
        "outputId": "96404926-9a83-404f-b7a8-8bd4f98c2414"
      },
      "execution_count": 42,
      "outputs": [
        {
          "output_type": "stream",
          "name": "stdout",
          "text": [
            "📊 Conversion Rates:\n",
            " group\n",
            "A    0.190\n",
            "B    0.122\n",
            "Name: converted, dtype: float64\n",
            "\n",
            "✅ Total Conversions:\n",
            " group\n",
            "A    95\n",
            "B    61\n",
            "Name: converted, dtype: int64\n",
            "\n",
            "👥 Total Users:\n",
            " group\n",
            "A    500\n",
            "B    500\n",
            "Name: converted, dtype: int64\n"
          ]
        }
      ]
    },
    {
      "cell_type": "markdown",
      "source": [
        "#✅ 4. Visualizations (Bar Plot & Pie Chart)"
      ],
      "metadata": {
        "id": "5zi9xsi4DDcq"
      }
    },
    {
      "cell_type": "markdown",
      "source": [
        "🔹 A. Bar Plot: Conversion Rate by Group"
      ],
      "metadata": {
        "id": "C9k73MiZLLLt"
      }
    },
    {
      "cell_type": "code",
      "source": [
        "\n",
        "sns.barplot(\n",
        "    x=conversion_rates.index,\n",
        "    y=conversion_rates.values,\n",
        "    hue=conversion_rates.index,\n",
        "    palette='viridis',\n",
        "    legend=False\n",
        ")\n",
        "plt.title(\"Conversion Rate by Group\")\n",
        "plt.ylabel(\"Conversion Rate\")\n",
        "plt.xlabel(\"Group\")\n",
        "plt.ylim(0, 0.2)\n",
        "plt.grid(axis='y', linestyle='--', alpha=0.6)\n",
        "plt.show()\n"
      ],
      "metadata": {
        "colab": {
          "base_uri": "https://localhost:8080/",
          "height": 472
        },
        "id": "srQNxiCpCqC0",
        "outputId": "33b6d9f6-bc1f-4e4e-bfdb-7b514bd88615"
      },
      "execution_count": 47,
      "outputs": [
        {
          "output_type": "display_data",
          "data": {
            "text/plain": [
              "<Figure size 640x480 with 1 Axes>"
            ],
            "image/png": "[encoded data removed]"
          },
          "metadata": {}
        }
      ]
    },
    {
      "cell_type": "markdown",
      "source": [
        "🔹 B. Pie Charts: Converted vs Not Converted per Group"
      ],
      "metadata": {
        "id": "G61E1AVPLN8v"
      }
    },
    {
      "cell_type": "code",
      "source": [
        "# Define labels and color order matching value 1 = Converted, 0 = Not Converted\n",
        "labels = ['Converted', 'Not Converted']\n",
        "colors = ['green', 'orange']\n",
        "\n",
        "fig, axes = plt.subplots(1, 2, figsize=(12, 5))\n",
        "\n",
        "for i, group in enumerate(['A', 'B']):\n",
        "    # Get value counts sorted by index to ensure [0, 1] order\n",
        "    group_data = data[data['group'] == group]['converted'].value_counts().sort_index()\n",
        "\n",
        "    # Reorder data to [1, 0] → Converted first\n",
        "    values = [group_data.get(1, 0), group_data.get(0, 0)]\n",
        "\n",
        "    axes[i].pie(values, labels=labels, autopct='%1.1f%%', startangle=90, colors=colors)\n",
        "    axes[i].set_title(f'Group {group}')\n",
        "\n",
        "plt.suptitle(\"Conversion Distribution by Group\")\n",
        "plt.show()\n"
      ],
      "metadata": {
        "colab": {
          "base_uri": "https://localhost:8080/",
          "height": 472
        },
        "id": "A5CRAOnQLSz-",
        "outputId": "3ccf6f58-8f5a-42cd-ddaa-ded1a2812794"
      },
      "execution_count": 44,
      "outputs": [
        {
          "output_type": "display_data",
          "data": {
            "text/plain": [
              "<Figure size 1200x500 with 2 Axes>"
            ],
            "image/png": "[encoded data removed]"
          },
          "metadata": {}
        }
      ]
    },
    {
      "cell_type": "markdown",
      "source": [
        "#✅ Step 5: Hypothesis Testing (Z-Test for Proportions)"
      ],
      "metadata": {
        "id": "so9ui9AfDH9B"
      }
    },
    {
      "cell_type": "code",
      "source": [
        "from statsmodels.stats.proportion import proportions_ztest\n",
        "\n",
        "# Prepare data for the z-test\n",
        "successes = [conversion_counts['A'], conversion_counts['B']]  # Number of conversions\n",
        "samples = [user_counts['A'], user_counts['B']]                # Total users\n",
        "\n",
        "# Perform 2-proportion Z-test\n",
        "z_stat, p_val = proportions_ztest(count=successes, nobs=samples)\n",
        "print(\"\\n📋 === A/B Test Z-Test Summary ===\")\n",
        "print(f\"🧪 Z-Statistic: {z_stat:.3f}\")\n",
        "print(f\"📉 P-Value: {p_val:.4f}\")\n",
        "\n",
        "# Set significance level\n",
        "alpha = 0.05\n",
        "\n",
        "# Conclusion with direction\n",
        "if p_val < alpha:\n",
        "    if (successes[0] / samples[0]) > (successes[1] / samples[1]):\n",
        "        print(\"🎯 Conclusion: Group A performs significantly better ✅\")\n",
        "    else:\n",
        "        print(\"🎯 Conclusion: Group B performs significantly better ✅\")\n",
        "else:\n",
        "    print(\"❌ Conclusion: No significant difference between Group A and Group B\")"
      ],
      "metadata": {
        "colab": {
          "base_uri": "https://localhost:8080/"
        },
        "id": "v6wGRPkPCp-_",
        "outputId": "6208f803-5b0e-4848-b70c-a11be8abfc93"
      },
      "execution_count": 45,
      "outputs": [
        {
          "output_type": "stream",
          "name": "stdout",
          "text": [
            "\n",
            "📋 === A/B Test Z-Test Summary ===\n",
            "🧪 Z-Statistic: 2.963\n",
            "📉 P-Value: 0.0030\n",
            "🎯 Conclusion: Group A performs significantly better ✅\n"
          ]
        }
      ]
    },
    {
      "cell_type": "markdown",
      "source": [
        "#✅ 6. Summary Report"
      ],
      "metadata": {
        "id": "K_-1aU_8DPe3"
      }
    },
    {
      "cell_type": "code",
      "source": [
        "print(\"\\n📋 === A/B Test Summary Report ===\")\n",
        "print(f\"Group A Conversion Rate: {conversion_rates['A']:.2%}\")\n",
        "print(f\"Group B Conversion Rate: {conversion_rates['B']:.2%}\")\n",
        "print(f\"Z-Score: {z_stat:.3f}\")\n",
        "print(f\"P-Value: {p_val:.4f}\")\n",
        "\n",
        "if p_val < alpha:\n",
        "    # Compare which group has higher conversion\n",
        "    if conversion_rates['B'] > conversion_rates['A']:\n",
        "        print(\"🎯 Conclusion: Version B performs significantly better! ✅\")\n",
        "    else:\n",
        "        print(\"🎯 Conclusion: Version A performs significantly better! ✅\")\n",
        "else:\n",
        "    print(\"🔍 Conclusion: No significant difference between Group A and B ❌\")"
      ],
      "metadata": {
        "colab": {
          "base_uri": "https://localhost:8080/"
        },
        "id": "dg9slzq8Cp6j",
        "outputId": "16fb225c-5f99-4a3e-928c-b7e802ec98c8"
      },
      "execution_count": 46,
      "outputs": [
        {
          "output_type": "stream",
          "name": "stdout",
          "text": [
            "\n",
            "📋 === A/B Test Summary Report ===\n",
            "Group A Conversion Rate: 19.00%\n",
            "Group B Conversion Rate: 12.20%\n",
            "Z-Score: 2.963\n",
            "P-Value: 0.0030\n",
            "🎯 Conclusion: Version A performs significantly better! ✅\n"
          ]
        }
      ]
    },
    {
      "cell_type": "code",
      "execution_count": null,
      "metadata": {
        "id": "Fjzds3z4CGgN"
      },
      "outputs": [],
      "source": []
    }
  ]
}